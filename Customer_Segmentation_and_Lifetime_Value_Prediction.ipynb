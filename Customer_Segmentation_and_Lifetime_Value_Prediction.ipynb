{
  "nbformat": 4,
  "nbformat_minor": 0,
  "metadata": {
    "colab": {
      "provenance": [],
      "authorship_tag": "ABX9TyOXgx40/NN4yYnscgA+jznE",
      "include_colab_link": true
    },
    "kernelspec": {
      "name": "python3",
      "display_name": "Python 3"
    },
    "language_info": {
      "name": "python"
    }
  },
  "cells": [
    {
      "cell_type": "markdown",
      "metadata": {
        "id": "view-in-github",
        "colab_type": "text"
      },
      "source": [
        "<a href=\"https://colab.research.google.com/github/Sayandeep27/ML-DL-Codes/blob/main/Customer_Segmentation_and_Lifetime_Value_Prediction.ipynb\" target=\"_parent\"><img src=\"https://colab.research.google.com/assets/colab-badge.svg\" alt=\"Open In Colab\"/></a>"
      ]
    },
    {
      "cell_type": "code",
      "execution_count": 1,
      "metadata": {
        "id": "jMUO_FYzsVex"
      },
      "outputs": [],
      "source": [
        "# Import necessary libraries\n",
        "import pandas as pd\n",
        "import numpy as np\n",
        "import matplotlib.pyplot as plt\n",
        "import seaborn as sns\n",
        "from sklearn.preprocessing import StandardScaler\n",
        "from sklearn.model_selection import train_test_split\n",
        "from sklearn.cluster import KMeans\n",
        "from sklearn.metrics import silhouette_score, mean_squared_error\n",
        "import tensorflow as tf\n",
        "from tensorflow.keras.models import Sequential\n",
        "from tensorflow.keras.layers import Dense, Dropout\n"
      ]
    },
    {
      "cell_type": "code",
      "source": [
        "# Load the dataset (example assuming you have an 'ecommerce_data.csv' file)\n",
        "data = pd.read_csv('e_commerce.csv')\n",
        "data.head()"
      ],
      "metadata": {
        "colab": {
          "base_uri": "https://localhost:8080/",
          "height": 293
        },
        "id": "Vtxi6f4YsXuW",
        "outputId": "f1f1f6b3-07a5-4ba0-d362-27c50db16ab5"
      },
      "execution_count": 3,
      "outputs": [
        {
          "output_type": "execute_result",
          "data": {
            "text/plain": [
              "  InvoiceNo StockCode                          Description  Quantity  \\\n",
              "0    536365    85123A   WHITE HANGING HEART T-LIGHT HOLDER         6   \n",
              "1    536365     71053                  WHITE METAL LANTERN         6   \n",
              "2    536365    84406B       CREAM CUPID HEARTS COAT HANGER         8   \n",
              "3    536365    84029G  KNITTED UNION FLAG HOT WATER BOTTLE         6   \n",
              "4    536365    84029E       RED WOOLLY HOTTIE WHITE HEART.         6   \n",
              "\n",
              "      InvoiceDate  UnitPrice  CustomerID         Country  \n",
              "0  12/1/2010 8:26       2.55     17850.0  United Kingdom  \n",
              "1  12/1/2010 8:26       3.39     17850.0  United Kingdom  \n",
              "2  12/1/2010 8:26       2.75     17850.0  United Kingdom  \n",
              "3  12/1/2010 8:26       3.39     17850.0  United Kingdom  \n",
              "4  12/1/2010 8:26       3.39     17850.0  United Kingdom  "
            ],
            "text/html": [
              "\n",
              "  <div id=\"df-ee41d773-1a47-4d5f-9d94-803ee39a9ac3\" class=\"colab-df-container\">\n",
              "    <div>\n",
              "<style scoped>\n",
              "    .dataframe tbody tr th:only-of-type {\n",
              "        vertical-align: middle;\n",
              "    }\n",
              "\n",
              "    .dataframe tbody tr th {\n",
              "        vertical-align: top;\n",
              "    }\n",
              "\n",
              "    .dataframe thead th {\n",
              "        text-align: right;\n",
              "    }\n",
              "</style>\n",
              "<table border=\"1\" class=\"dataframe\">\n",
              "  <thead>\n",
              "    <tr style=\"text-align: right;\">\n",
              "      <th></th>\n",
              "      <th>InvoiceNo</th>\n",
              "      <th>StockCode</th>\n",
              "      <th>Description</th>\n",
              "      <th>Quantity</th>\n",
              "      <th>InvoiceDate</th>\n",
              "      <th>UnitPrice</th>\n",
              "      <th>CustomerID</th>\n",
              "      <th>Country</th>\n",
              "    </tr>\n",
              "  </thead>\n",
              "  <tbody>\n",
              "    <tr>\n",
              "      <th>0</th>\n",
              "      <td>536365</td>\n",
              "      <td>85123A</td>\n",
              "      <td>WHITE HANGING HEART T-LIGHT HOLDER</td>\n",
              "      <td>6</td>\n",
              "      <td>12/1/2010 8:26</td>\n",
              "      <td>2.55</td>\n",
              "      <td>17850.0</td>\n",
              "      <td>United Kingdom</td>\n",
              "    </tr>\n",
              "    <tr>\n",
              "      <th>1</th>\n",
              "      <td>536365</td>\n",
              "      <td>71053</td>\n",
              "      <td>WHITE METAL LANTERN</td>\n",
              "      <td>6</td>\n",
              "      <td>12/1/2010 8:26</td>\n",
              "      <td>3.39</td>\n",
              "      <td>17850.0</td>\n",
              "      <td>United Kingdom</td>\n",
              "    </tr>\n",
              "    <tr>\n",
              "      <th>2</th>\n",
              "      <td>536365</td>\n",
              "      <td>84406B</td>\n",
              "      <td>CREAM CUPID HEARTS COAT HANGER</td>\n",
              "      <td>8</td>\n",
              "      <td>12/1/2010 8:26</td>\n",
              "      <td>2.75</td>\n",
              "      <td>17850.0</td>\n",
              "      <td>United Kingdom</td>\n",
              "    </tr>\n",
              "    <tr>\n",
              "      <th>3</th>\n",
              "      <td>536365</td>\n",
              "      <td>84029G</td>\n",
              "      <td>KNITTED UNION FLAG HOT WATER BOTTLE</td>\n",
              "      <td>6</td>\n",
              "      <td>12/1/2010 8:26</td>\n",
              "      <td>3.39</td>\n",
              "      <td>17850.0</td>\n",
              "      <td>United Kingdom</td>\n",
              "    </tr>\n",
              "    <tr>\n",
              "      <th>4</th>\n",
              "      <td>536365</td>\n",
              "      <td>84029E</td>\n",
              "      <td>RED WOOLLY HOTTIE WHITE HEART.</td>\n",
              "      <td>6</td>\n",
              "      <td>12/1/2010 8:26</td>\n",
              "      <td>3.39</td>\n",
              "      <td>17850.0</td>\n",
              "      <td>United Kingdom</td>\n",
              "    </tr>\n",
              "  </tbody>\n",
              "</table>\n",
              "</div>\n",
              "    <div class=\"colab-df-buttons\">\n",
              "\n",
              "  <div class=\"colab-df-container\">\n",
              "    <button class=\"colab-df-convert\" onclick=\"convertToInteractive('df-ee41d773-1a47-4d5f-9d94-803ee39a9ac3')\"\n",
              "            title=\"Convert this dataframe to an interactive table.\"\n",
              "            style=\"display:none;\">\n",
              "\n",
              "  <svg xmlns=\"http://www.w3.org/2000/svg\" height=\"24px\" viewBox=\"0 -960 960 960\">\n",
              "    <path d=\"M120-120v-720h720v720H120Zm60-500h600v-160H180v160Zm220 220h160v-160H400v160Zm0 220h160v-160H400v160ZM180-400h160v-160H180v160Zm440 0h160v-160H620v160ZM180-180h160v-160H180v160Zm440 0h160v-160H620v160Z\"/>\n",
              "  </svg>\n",
              "    </button>\n",
              "\n",
              "  <style>\n",
              "    .colab-df-container {\n",
              "      display:flex;\n",
              "      gap: 12px;\n",
              "    }\n",
              "\n",
              "    .colab-df-convert {\n",
              "      background-color: #E8F0FE;\n",
              "      border: none;\n",
              "      border-radius: 50%;\n",
              "      cursor: pointer;\n",
              "      display: none;\n",
              "      fill: #1967D2;\n",
              "      height: 32px;\n",
              "      padding: 0 0 0 0;\n",
              "      width: 32px;\n",
              "    }\n",
              "\n",
              "    .colab-df-convert:hover {\n",
              "      background-color: #E2EBFA;\n",
              "      box-shadow: 0px 1px 2px rgba(60, 64, 67, 0.3), 0px 1px 3px 1px rgba(60, 64, 67, 0.15);\n",
              "      fill: #174EA6;\n",
              "    }\n",
              "\n",
              "    .colab-df-buttons div {\n",
              "      margin-bottom: 4px;\n",
              "    }\n",
              "\n",
              "    [theme=dark] .colab-df-convert {\n",
              "      background-color: #3B4455;\n",
              "      fill: #D2E3FC;\n",
              "    }\n",
              "\n",
              "    [theme=dark] .colab-df-convert:hover {\n",
              "      background-color: #434B5C;\n",
              "      box-shadow: 0px 1px 3px 1px rgba(0, 0, 0, 0.15);\n",
              "      filter: drop-shadow(0px 1px 2px rgba(0, 0, 0, 0.3));\n",
              "      fill: #FFFFFF;\n",
              "    }\n",
              "  </style>\n",
              "\n",
              "    <script>\n",
              "      const buttonEl =\n",
              "        document.querySelector('#df-ee41d773-1a47-4d5f-9d94-803ee39a9ac3 button.colab-df-convert');\n",
              "      buttonEl.style.display =\n",
              "        google.colab.kernel.accessAllowed ? 'block' : 'none';\n",
              "\n",
              "      async function convertToInteractive(key) {\n",
              "        const element = document.querySelector('#df-ee41d773-1a47-4d5f-9d94-803ee39a9ac3');\n",
              "        const dataTable =\n",
              "          await google.colab.kernel.invokeFunction('convertToInteractive',\n",
              "                                                    [key], {});\n",
              "        if (!dataTable) return;\n",
              "\n",
              "        const docLinkHtml = 'Like what you see? Visit the ' +\n",
              "          '<a target=\"_blank\" href=https://colab.research.google.com/notebooks/data_table.ipynb>data table notebook</a>'\n",
              "          + ' to learn more about interactive tables.';\n",
              "        element.innerHTML = '';\n",
              "        dataTable['output_type'] = 'display_data';\n",
              "        await google.colab.output.renderOutput(dataTable, element);\n",
              "        const docLink = document.createElement('div');\n",
              "        docLink.innerHTML = docLinkHtml;\n",
              "        element.appendChild(docLink);\n",
              "      }\n",
              "    </script>\n",
              "  </div>\n",
              "\n",
              "\n",
              "<div id=\"df-606698bc-c0d9-4fac-95ef-70e73c96ea9f\">\n",
              "  <button class=\"colab-df-quickchart\" onclick=\"quickchart('df-606698bc-c0d9-4fac-95ef-70e73c96ea9f')\"\n",
              "            title=\"Suggest charts\"\n",
              "            style=\"display:none;\">\n",
              "\n",
              "<svg xmlns=\"http://www.w3.org/2000/svg\" height=\"24px\"viewBox=\"0 0 24 24\"\n",
              "     width=\"24px\">\n",
              "    <g>\n",
              "        <path d=\"M19 3H5c-1.1 0-2 .9-2 2v14c0 1.1.9 2 2 2h14c1.1 0 2-.9 2-2V5c0-1.1-.9-2-2-2zM9 17H7v-7h2v7zm4 0h-2V7h2v10zm4 0h-2v-4h2v4z\"/>\n",
              "    </g>\n",
              "</svg>\n",
              "  </button>\n",
              "\n",
              "<style>\n",
              "  .colab-df-quickchart {\n",
              "      --bg-color: #E8F0FE;\n",
              "      --fill-color: #1967D2;\n",
              "      --hover-bg-color: #E2EBFA;\n",
              "      --hover-fill-color: #174EA6;\n",
              "      --disabled-fill-color: #AAA;\n",
              "      --disabled-bg-color: #DDD;\n",
              "  }\n",
              "\n",
              "  [theme=dark] .colab-df-quickchart {\n",
              "      --bg-color: #3B4455;\n",
              "      --fill-color: #D2E3FC;\n",
              "      --hover-bg-color: #434B5C;\n",
              "      --hover-fill-color: #FFFFFF;\n",
              "      --disabled-bg-color: #3B4455;\n",
              "      --disabled-fill-color: #666;\n",
              "  }\n",
              "\n",
              "  .colab-df-quickchart {\n",
              "    background-color: var(--bg-color);\n",
              "    border: none;\n",
              "    border-radius: 50%;\n",
              "    cursor: pointer;\n",
              "    display: none;\n",
              "    fill: var(--fill-color);\n",
              "    height: 32px;\n",
              "    padding: 0;\n",
              "    width: 32px;\n",
              "  }\n",
              "\n",
              "  .colab-df-quickchart:hover {\n",
              "    background-color: var(--hover-bg-color);\n",
              "    box-shadow: 0 1px 2px rgba(60, 64, 67, 0.3), 0 1px 3px 1px rgba(60, 64, 67, 0.15);\n",
              "    fill: var(--button-hover-fill-color);\n",
              "  }\n",
              "\n",
              "  .colab-df-quickchart-complete:disabled,\n",
              "  .colab-df-quickchart-complete:disabled:hover {\n",
              "    background-color: var(--disabled-bg-color);\n",
              "    fill: var(--disabled-fill-color);\n",
              "    box-shadow: none;\n",
              "  }\n",
              "\n",
              "  .colab-df-spinner {\n",
              "    border: 2px solid var(--fill-color);\n",
              "    border-color: transparent;\n",
              "    border-bottom-color: var(--fill-color);\n",
              "    animation:\n",
              "      spin 1s steps(1) infinite;\n",
              "  }\n",
              "\n",
              "  @keyframes spin {\n",
              "    0% {\n",
              "      border-color: transparent;\n",
              "      border-bottom-color: var(--fill-color);\n",
              "      border-left-color: var(--fill-color);\n",
              "    }\n",
              "    20% {\n",
              "      border-color: transparent;\n",
              "      border-left-color: var(--fill-color);\n",
              "      border-top-color: var(--fill-color);\n",
              "    }\n",
              "    30% {\n",
              "      border-color: transparent;\n",
              "      border-left-color: var(--fill-color);\n",
              "      border-top-color: var(--fill-color);\n",
              "      border-right-color: var(--fill-color);\n",
              "    }\n",
              "    40% {\n",
              "      border-color: transparent;\n",
              "      border-right-color: var(--fill-color);\n",
              "      border-top-color: var(--fill-color);\n",
              "    }\n",
              "    60% {\n",
              "      border-color: transparent;\n",
              "      border-right-color: var(--fill-color);\n",
              "    }\n",
              "    80% {\n",
              "      border-color: transparent;\n",
              "      border-right-color: var(--fill-color);\n",
              "      border-bottom-color: var(--fill-color);\n",
              "    }\n",
              "    90% {\n",
              "      border-color: transparent;\n",
              "      border-bottom-color: var(--fill-color);\n",
              "    }\n",
              "  }\n",
              "</style>\n",
              "\n",
              "  <script>\n",
              "    async function quickchart(key) {\n",
              "      const quickchartButtonEl =\n",
              "        document.querySelector('#' + key + ' button');\n",
              "      quickchartButtonEl.disabled = true;  // To prevent multiple clicks.\n",
              "      quickchartButtonEl.classList.add('colab-df-spinner');\n",
              "      try {\n",
              "        const charts = await google.colab.kernel.invokeFunction(\n",
              "            'suggestCharts', [key], {});\n",
              "      } catch (error) {\n",
              "        console.error('Error during call to suggestCharts:', error);\n",
              "      }\n",
              "      quickchartButtonEl.classList.remove('colab-df-spinner');\n",
              "      quickchartButtonEl.classList.add('colab-df-quickchart-complete');\n",
              "    }\n",
              "    (() => {\n",
              "      let quickchartButtonEl =\n",
              "        document.querySelector('#df-606698bc-c0d9-4fac-95ef-70e73c96ea9f button');\n",
              "      quickchartButtonEl.style.display =\n",
              "        google.colab.kernel.accessAllowed ? 'block' : 'none';\n",
              "    })();\n",
              "  </script>\n",
              "</div>\n",
              "\n",
              "    </div>\n",
              "  </div>\n"
            ],
            "application/vnd.google.colaboratory.intrinsic+json": {
              "type": "dataframe",
              "variable_name": "data",
              "summary": "{\n  \"name\": \"data\",\n  \"rows\": 37309,\n  \"fields\": [\n    {\n      \"column\": \"InvoiceNo\",\n      \"properties\": {\n        \"dtype\": \"category\",\n        \"num_unique_values\": 1774,\n        \"samples\": [\n          \"C538081\",\n          \"537393\",\n          \"538248\"\n        ],\n        \"semantic_type\": \"\",\n        \"description\": \"\"\n      }\n    },\n    {\n      \"column\": \"StockCode\",\n      \"properties\": {\n        \"dtype\": \"category\",\n        \"num_unique_values\": 2754,\n        \"samples\": [\n          \"20934\",\n          \"79149B\",\n          \"35964\"\n        ],\n        \"semantic_type\": \"\",\n        \"description\": \"\"\n      }\n    },\n    {\n      \"column\": \"Description\",\n      \"properties\": {\n        \"dtype\": \"category\",\n        \"num_unique_values\": 2698,\n        \"samples\": [\n          \"GOLD PRINT PAPER BAG\",\n          \"ILLUSTRATED CAT BOWL \",\n          \"WOODEN ADVENT CALENDAR CREAM\"\n        ],\n        \"semantic_type\": \"\",\n        \"description\": \"\"\n      }\n    },\n    {\n      \"column\": \"Quantity\",\n      \"properties\": {\n        \"dtype\": \"number\",\n        \"std\": 61,\n        \"min\": -9360,\n        \"max\": 2880,\n        \"num_unique_values\": 194,\n        \"samples\": [\n          258,\n          96,\n          -223\n        ],\n        \"semantic_type\": \"\",\n        \"description\": \"\"\n      }\n    },\n    {\n      \"column\": \"InvoiceDate\",\n      \"properties\": {\n        \"dtype\": \"category\",\n        \"num_unique_values\": 1541,\n        \"samples\": [\n          \"12/17/2010 11:43\",\n          \"12/14/2010 10:53\",\n          \"12/14/2010 16:53\"\n        ],\n        \"semantic_type\": \"\",\n        \"description\": \"\"\n      }\n    },\n    {\n      \"column\": \"UnitPrice\",\n      \"properties\": {\n        \"dtype\": \"number\",\n        \"std\": 148.6933711367184,\n        \"min\": 0.0,\n        \"max\": 13541.33,\n        \"num_unique_values\": 264,\n        \"samples\": [\n          7.62,\n          19.84,\n          20.38\n        ],\n        \"semantic_type\": \"\",\n        \"description\": \"\"\n      }\n    },\n    {\n      \"column\": \"CustomerID\",\n      \"properties\": {\n        \"dtype\": \"number\",\n        \"std\": 1731.7420130963064,\n        \"min\": 12347.0,\n        \"max\": 18269.0,\n        \"num_unique_values\": 898,\n        \"samples\": [\n          14293.0,\n          14543.0,\n          12586.0\n        ],\n        \"semantic_type\": \"\",\n        \"description\": \"\"\n      }\n    },\n    {\n      \"column\": \"Country\",\n      \"properties\": {\n        \"dtype\": \"category\",\n        \"num_unique_values\": 23,\n        \"samples\": [\n          \"Iceland\",\n          \"Poland\",\n          \"United Kingdom\"\n        ],\n        \"semantic_type\": \"\",\n        \"description\": \"\"\n      }\n    }\n  ]\n}"
            }
          },
          "metadata": {},
          "execution_count": 3
        }
      ]
    },
    {
      "cell_type": "code",
      "source": [
        "data.info()"
      ],
      "metadata": {
        "colab": {
          "base_uri": "https://localhost:8080/"
        },
        "id": "CeAWdD2VslPk",
        "outputId": "de589380-43d3-4fd0-97e4-7d6fc167b1fa"
      },
      "execution_count": 4,
      "outputs": [
        {
          "output_type": "stream",
          "name": "stdout",
          "text": [
            "<class 'pandas.core.frame.DataFrame'>\n",
            "RangeIndex: 37309 entries, 0 to 37308\n",
            "Data columns (total 8 columns):\n",
            " #   Column       Non-Null Count  Dtype  \n",
            "---  ------       --------------  -----  \n",
            " 0   InvoiceNo    37309 non-null  object \n",
            " 1   StockCode    37309 non-null  object \n",
            " 2   Description  37192 non-null  object \n",
            " 3   Quantity     37309 non-null  int64  \n",
            " 4   InvoiceDate  37309 non-null  object \n",
            " 5   UnitPrice    37308 non-null  float64\n",
            " 6   CustomerID   24429 non-null  float64\n",
            " 7   Country      37308 non-null  object \n",
            "dtypes: float64(2), int64(1), object(5)\n",
            "memory usage: 2.3+ MB\n"
          ]
        }
      ]
    },
    {
      "cell_type": "code",
      "source": [
        "data.isnull().sum()"
      ],
      "metadata": {
        "colab": {
          "base_uri": "https://localhost:8080/"
        },
        "id": "ZTNGtsJEsnuW",
        "outputId": "67f43e30-ed42-4118-a5ed-feecec81a5e8"
      },
      "execution_count": 5,
      "outputs": [
        {
          "output_type": "execute_result",
          "data": {
            "text/plain": [
              "InvoiceNo          0\n",
              "StockCode          0\n",
              "Description      117\n",
              "Quantity           0\n",
              "InvoiceDate        0\n",
              "UnitPrice          1\n",
              "CustomerID     12880\n",
              "Country            1\n",
              "dtype: int64"
            ]
          },
          "metadata": {},
          "execution_count": 5
        }
      ]
    },
    {
      "cell_type": "code",
      "source": [
        "\n",
        "# Data cleaning and feature engineering\n",
        "data.dropna(inplace=True)\n",
        "data['InvoiceDate'] = pd.to_datetime(data['InvoiceDate'])\n",
        "data['TotalAmount'] = data['Quantity'] * data['UnitPrice']\n",
        "snapshot_date = data['InvoiceDate'].max() + pd.Timedelta(days=1)"
      ],
      "metadata": {
        "id": "c5_U6EGSsptb"
      },
      "execution_count": 6,
      "outputs": []
    },
    {
      "cell_type": "code",
      "source": [
        "rfm = data.groupby('CustomerID').agg({\n",
        "    'InvoiceDate': lambda x: (snapshot_date - x.max()).days,\n",
        "    'InvoiceNo': 'nunique',\n",
        "    'TotalAmount': 'sum'\n",
        "}).reset_index()"
      ],
      "metadata": {
        "id": "pSOGnQgZssXo"
      },
      "execution_count": 7,
      "outputs": []
    },
    {
      "cell_type": "code",
      "source": [
        "rfm.columns = ['CustomerID', 'Recency', 'Frequency', 'Monetary']\n"
      ],
      "metadata": {
        "id": "iQhjY7AvsuTV"
      },
      "execution_count": 8,
      "outputs": []
    },
    {
      "cell_type": "code",
      "source": [
        "# Feature scaling\n",
        "scaler = StandardScaler()\n",
        "rfm_scaled = scaler.fit_transform(rfm[['Recency', 'Frequency', 'Monetary']])"
      ],
      "metadata": {
        "id": "LqWj7JbGsv6o"
      },
      "execution_count": 9,
      "outputs": []
    },
    {
      "cell_type": "code",
      "source": [
        "# Customer segmentation using K-means clustering\n",
        "kmeans = KMeans(n_clusters=5, random_state=42)\n",
        "rfm['Cluster'] = kmeans.fit_predict(rfm_scaled)"
      ],
      "metadata": {
        "colab": {
          "base_uri": "https://localhost:8080/"
        },
        "id": "j_Y1e9V8sxwM",
        "outputId": "26341964-09e8-4028-a22a-2739001f102f"
      },
      "execution_count": 10,
      "outputs": [
        {
          "output_type": "stream",
          "name": "stderr",
          "text": [
            "/usr/local/lib/python3.10/dist-packages/sklearn/cluster/_kmeans.py:870: FutureWarning: The default value of `n_init` will change from 10 to 'auto' in 1.4. Set the value of `n_init` explicitly to suppress the warning\n",
            "  warnings.warn(\n"
          ]
        }
      ]
    },
    {
      "cell_type": "code",
      "source": [
        "# Neural network for Customer Lifetime Value (CLV) prediction\n",
        "# Prepare data for CLV prediction\n",
        "X = rfm.drop(['CustomerID', 'Cluster'], axis=1)\n",
        "y = rfm['Monetary']\n"
      ],
      "metadata": {
        "id": "F_8MsdBWszWK"
      },
      "execution_count": 11,
      "outputs": []
    },
    {
      "cell_type": "code",
      "source": [
        "# Train-test split\n",
        "X_train, X_test, y_train, y_test = train_test_split(X, y, test_size=0.2, random_state=42)"
      ],
      "metadata": {
        "id": "FY3_Z41-s1n2"
      },
      "execution_count": 12,
      "outputs": []
    },
    {
      "cell_type": "code",
      "source": [
        "# Define neural network architecture\n",
        "model = Sequential([\n",
        "    Dense(64, activation='relu', input_shape=(X_train.shape[1],)),\n",
        "    Dropout(0.2),\n",
        "    Dense(32, activation='relu'),\n",
        "    Dense(1, activation='linear')\n",
        "])\n"
      ],
      "metadata": {
        "id": "fgRYyJbws4Nl"
      },
      "execution_count": 13,
      "outputs": []
    },
    {
      "cell_type": "code",
      "source": [
        "# Compile model\n",
        "model.compile(optimizer='adam', loss='mean_squared_error')"
      ],
      "metadata": {
        "id": "zFjgJ_Xgs6KI"
      },
      "execution_count": 14,
      "outputs": []
    },
    {
      "cell_type": "code",
      "source": [
        "# Train the model\n",
        "history = model.fit(X_train, y_train, epochs=50, batch_size=32, validation_data=(X_test, y_test), verbose=1)"
      ],
      "metadata": {
        "colab": {
          "base_uri": "https://localhost:8080/"
        },
        "id": "Gn4WLBR7s70m",
        "outputId": "7d09ad9f-35e3-47df-edfb-2d6bfb34c57a"
      },
      "execution_count": 15,
      "outputs": [
        {
          "output_type": "stream",
          "name": "stdout",
          "text": [
            "Epoch 1/50\n",
            "23/23 [==============================] - 2s 18ms/step - loss: 933153.4375 - val_loss: 1548995.5000\n",
            "Epoch 2/50\n",
            "23/23 [==============================] - 0s 4ms/step - loss: 477668.2812 - val_loss: 591972.1875\n",
            "Epoch 3/50\n",
            "23/23 [==============================] - 0s 5ms/step - loss: 126892.6719 - val_loss: 79132.8672\n",
            "Epoch 4/50\n",
            "23/23 [==============================] - 0s 4ms/step - loss: 65581.6250 - val_loss: 3197.7976\n",
            "Epoch 5/50\n",
            "23/23 [==============================] - 0s 4ms/step - loss: 44607.7031 - val_loss: 448.7059\n",
            "Epoch 6/50\n",
            "23/23 [==============================] - 0s 3ms/step - loss: 13049.0107 - val_loss: 6299.1431\n",
            "Epoch 7/50\n",
            "23/23 [==============================] - 0s 5ms/step - loss: 27796.9883 - val_loss: 21885.4551\n",
            "Epoch 8/50\n",
            "23/23 [==============================] - 0s 4ms/step - loss: 20676.9023 - val_loss: 2082.8127\n",
            "Epoch 9/50\n",
            "23/23 [==============================] - 0s 3ms/step - loss: 10674.0078 - val_loss: 282.4717\n",
            "Epoch 10/50\n",
            "23/23 [==============================] - 0s 4ms/step - loss: 15771.9893 - val_loss: 8777.0625\n",
            "Epoch 11/50\n",
            "23/23 [==============================] - 0s 3ms/step - loss: 26244.5156 - val_loss: 815.8660\n",
            "Epoch 12/50\n",
            "23/23 [==============================] - 0s 4ms/step - loss: 18320.6777 - val_loss: 35.9427\n",
            "Epoch 13/50\n",
            "23/23 [==============================] - 0s 4ms/step - loss: 10147.7812 - val_loss: 596.7545\n",
            "Epoch 14/50\n",
            "23/23 [==============================] - 0s 5ms/step - loss: 20971.5957 - val_loss: 6682.5137\n",
            "Epoch 15/50\n",
            "23/23 [==============================] - 0s 5ms/step - loss: 23927.9531 - val_loss: 3099.8652\n",
            "Epoch 16/50\n",
            "23/23 [==============================] - 0s 3ms/step - loss: 13655.6602 - val_loss: 1767.1818\n",
            "Epoch 17/50\n",
            "23/23 [==============================] - 0s 4ms/step - loss: 18174.7266 - val_loss: 26420.5605\n",
            "Epoch 18/50\n",
            "23/23 [==============================] - 0s 4ms/step - loss: 17442.7441 - val_loss: 9770.4434\n",
            "Epoch 19/50\n",
            "23/23 [==============================] - 0s 3ms/step - loss: 7768.3867 - val_loss: 971.0421\n",
            "Epoch 20/50\n",
            "23/23 [==============================] - 0s 3ms/step - loss: 19024.6484 - val_loss: 4054.1589\n",
            "Epoch 21/50\n",
            "23/23 [==============================] - 0s 4ms/step - loss: 10796.9502 - val_loss: 924.8466\n",
            "Epoch 22/50\n",
            "23/23 [==============================] - 0s 4ms/step - loss: 10447.7002 - val_loss: 7699.3501\n",
            "Epoch 23/50\n",
            "23/23 [==============================] - 0s 5ms/step - loss: 27123.5605 - val_loss: 1068.3635\n",
            "Epoch 24/50\n",
            "23/23 [==============================] - 0s 4ms/step - loss: 52111.6367 - val_loss: 6280.7979\n",
            "Epoch 25/50\n",
            "23/23 [==============================] - 0s 4ms/step - loss: 12560.9482 - val_loss: 2952.2080\n",
            "Epoch 26/50\n",
            "23/23 [==============================] - 0s 3ms/step - loss: 9826.4746 - val_loss: 525.6468\n",
            "Epoch 27/50\n",
            "23/23 [==============================] - 0s 4ms/step - loss: 19513.6738 - val_loss: 96.1860\n",
            "Epoch 28/50\n",
            "23/23 [==============================] - 0s 4ms/step - loss: 16595.2695 - val_loss: 10791.8262\n",
            "Epoch 29/50\n",
            "23/23 [==============================] - 0s 4ms/step - loss: 14167.9805 - val_loss: 3916.7900\n",
            "Epoch 30/50\n",
            "23/23 [==============================] - 0s 4ms/step - loss: 17240.3242 - val_loss: 2815.2852\n",
            "Epoch 31/50\n",
            "23/23 [==============================] - 0s 4ms/step - loss: 11348.9863 - val_loss: 13862.7637\n",
            "Epoch 32/50\n",
            "23/23 [==============================] - 0s 5ms/step - loss: 8982.5371 - val_loss: 1035.8816\n",
            "Epoch 33/50\n",
            "23/23 [==============================] - 0s 5ms/step - loss: 29270.7324 - val_loss: 8290.6055\n",
            "Epoch 34/50\n",
            "23/23 [==============================] - 0s 4ms/step - loss: 15345.8965 - val_loss: 2769.2710\n",
            "Epoch 35/50\n",
            "23/23 [==============================] - 0s 3ms/step - loss: 22647.6387 - val_loss: 6821.8984\n",
            "Epoch 36/50\n",
            "23/23 [==============================] - 0s 4ms/step - loss: 9988.0156 - val_loss: 1060.1349\n",
            "Epoch 37/50\n",
            "23/23 [==============================] - 0s 5ms/step - loss: 19786.0703 - val_loss: 51391.9180\n",
            "Epoch 38/50\n",
            "23/23 [==============================] - 0s 3ms/step - loss: 8597.3242 - val_loss: 5835.9453\n",
            "Epoch 39/50\n",
            "23/23 [==============================] - 0s 4ms/step - loss: 12799.0693 - val_loss: 273.4897\n",
            "Epoch 40/50\n",
            "23/23 [==============================] - 0s 4ms/step - loss: 20554.5684 - val_loss: 8107.9688\n",
            "Epoch 41/50\n",
            "23/23 [==============================] - 0s 3ms/step - loss: 15977.4160 - val_loss: 10562.8184\n",
            "Epoch 42/50\n",
            "23/23 [==============================] - 0s 5ms/step - loss: 20551.8379 - val_loss: 4673.4673\n",
            "Epoch 43/50\n",
            "23/23 [==============================] - 0s 5ms/step - loss: 23633.9609 - val_loss: 11144.5469\n",
            "Epoch 44/50\n",
            "23/23 [==============================] - 0s 4ms/step - loss: 14929.1865 - val_loss: 1103.1185\n",
            "Epoch 45/50\n",
            "23/23 [==============================] - 0s 3ms/step - loss: 10034.7285 - val_loss: 15724.6553\n",
            "Epoch 46/50\n",
            "23/23 [==============================] - 0s 3ms/step - loss: 22294.7344 - val_loss: 29109.5742\n",
            "Epoch 47/50\n",
            "23/23 [==============================] - 0s 4ms/step - loss: 13155.1982 - val_loss: 605.3616\n",
            "Epoch 48/50\n",
            "23/23 [==============================] - 0s 4ms/step - loss: 16592.9297 - val_loss: 730.8953\n",
            "Epoch 49/50\n",
            "23/23 [==============================] - 0s 4ms/step - loss: 11038.1143 - val_loss: 839.8734\n",
            "Epoch 50/50\n",
            "23/23 [==============================] - 0s 4ms/step - loss: 7440.2954 - val_loss: 3107.8503\n"
          ]
        }
      ]
    },
    {
      "cell_type": "code",
      "source": [
        "# Predict CLV\n",
        "clv_predictions = model.predict(X_test)"
      ],
      "metadata": {
        "colab": {
          "base_uri": "https://localhost:8080/"
        },
        "id": "2fGW_NtLs9um",
        "outputId": "ad971b8b-20ed-40c1-dc72-8f7cc59bb4b2"
      },
      "execution_count": 16,
      "outputs": [
        {
          "output_type": "stream",
          "name": "stdout",
          "text": [
            "6/6 [==============================] - 0s 3ms/step\n"
          ]
        }
      ]
    },
    {
      "cell_type": "code",
      "source": [
        "# Evaluate model performance (e.g., RMSE)\n",
        "rmse = np.sqrt(mean_squared_error(y_test, clv_predictions))\n",
        "print(f'Root Mean Squared Error (CLV Prediction): {rmse}')"
      ],
      "metadata": {
        "colab": {
          "base_uri": "https://localhost:8080/"
        },
        "id": "-rm-4x_gtBuM",
        "outputId": "156a3020-d0ec-4999-b261-86a729bc19e9"
      },
      "execution_count": 17,
      "outputs": [
        {
          "output_type": "stream",
          "name": "stdout",
          "text": [
            "Root Mean Squared Error (CLV Prediction): 55.748141894131315\n"
          ]
        }
      ]
    },
    {
      "cell_type": "code",
      "source": [
        "# Visualize training history\n",
        "plt.figure(figsize=(10, 6))\n",
        "plt.plot(history.history['loss'], label='Training Loss')\n",
        "plt.plot(history.history['val_loss'], label='Validation Loss')\n",
        "plt.title('Training and Validation Loss')\n",
        "plt.xlabel('Epochs')\n",
        "plt.ylabel('Loss')\n",
        "plt.legend()\n",
        "plt.show()"
      ],
      "metadata": {
        "colab": {
          "base_uri": "https://localhost:8080/",
          "height": 564
        },
        "id": "3BtVMuaPtDUF",
        "outputId": "87f158a5-c7e8-4576-9afa-8812b451fa9c"
      },
      "execution_count": 18,
      "outputs": [
        {
          "output_type": "display_data",
          "data": {
            "text/plain": [
              "<Figure size 1000x600 with 1 Axes>"
            ],
            "image/png": "[encoded data removed]"
          },
          "metadata": {}
        }
      ]
    },
    {
      "cell_type": "code",
      "source": [
        "# Visualize customer segments\n",
        "sns.scatterplot(x='Frequency', y='Monetary', hue='Cluster', data=rfm, palette='viridis')\n",
        "plt.title('Customer Segments based on RFM')\n",
        "plt.xlabel('Frequency')\n",
        "plt.ylabel('Monetary')\n",
        "plt.show()"
      ],
      "metadata": {
        "colab": {
          "base_uri": "https://localhost:8080/",
          "height": 472
        },
        "id": "e-_u2ZoxtEy6",
        "outputId": "bec3cd5b-a6f8-48fd-9fc8-662e8f85f352"
      },
      "execution_count": 19,
      "outputs": [
        {
          "output_type": "display_data",
          "data": {
            "text/plain": [
              "<Figure size 640x480 with 1 Axes>"
            ],
            "image/png": "[encoded data removed]"
          },
          "metadata": {}
        }
      ]
    },
    {
      "cell_type": "markdown",
      "source": [
        "#This advanced project combines machine learning, deep learning, and statistical techniques to solve a marketing challenge of customer segmentation and lifetime value prediction. The integration of RFM analysis, clustering algorithms, neural networks for CLV prediction, and thorough model evaluation ensures a robust solution that can provide actionable insights for marketing strategies in e-commerce or any customer-centric business. For a complete end-to-end implementation, further details on data preprocessing, hyperparameter tuning, and deployment specifics would be required based on the actual dataset and business context"
      ],
      "metadata": {
        "id": "ZvHTaxaitZH0"
      }
    },
    {
      "cell_type": "code",
      "source": [],
      "metadata": {
        "id": "nknGOLXCtGpz"
      },
      "execution_count": null,
      "outputs": []
    }
  ]
}